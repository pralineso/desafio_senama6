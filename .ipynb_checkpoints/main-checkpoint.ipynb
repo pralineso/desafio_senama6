{
 "cells": [
  {
   "cell_type": "markdown",
   "metadata": {},
   "source": [
    "# Desafio 5\n",
    "\n",
    "Neste desafio, vamos praticar sobre redução de dimensionalidade com PCA e seleção de variáveis com RFE. Utilizaremos o _data set_ [Fifa 2019](https://www.kaggle.com/karangadiya/fifa19), contendo originalmente 89 variáveis de mais de 18 mil jogadores do _game_ FIFA 2019.\n",
    "\n",
    "> Obs.: Por favor, não modifique o nome das funções de resposta."
   ]
  },
  {
   "cell_type": "markdown",
   "metadata": {},
   "source": [
    "## _Setup_ geral"
   ]
  },
  {
   "cell_type": "code",
   "execution_count": 237,
   "metadata": {},
   "outputs": [],
   "source": [
    "from math import sqrt\n",
    "\n",
    "import pandas as pd\n",
    "import matplotlib.pyplot as plt\n",
    "import numpy as np\n",
    "import scipy.stats as sct\n",
    "import seaborn as sns\n",
    "import statsmodels.api as sm\n",
    "import statsmodels.stats as st\n",
    "from sklearn.decomposition import PCA\n",
    "from sklearn.feature_selection import RFE\n",
    "from sklearn.linear_model import LinearRegression\n",
    "\n",
    "#from loguru import logger"
   ]
  },
  {
   "cell_type": "code",
   "execution_count": 238,
   "metadata": {},
   "outputs": [],
   "source": [
    "# Algumas configurações para o matplotlib.\n",
    "#%matplotlib inline\n",
    "\n",
    "from IPython.core.pylabtools import figsize\n",
    "\n",
    "\n",
    "figsize(12, 8)\n",
    "\n",
    "sns.set()"
   ]
  },
  {
   "cell_type": "code",
   "execution_count": 239,
   "metadata": {
    "scrolled": false
   },
   "outputs": [],
   "source": [
    "fifa = pd.read_csv(\"fifa.csv\")"
   ]
  },
  {
   "cell_type": "code",
   "execution_count": 240,
   "metadata": {},
   "outputs": [],
   "source": [
    "columns_to_drop = [\"Unnamed: 0\", \"ID\", \"Name\", \"Photo\", \"Nationality\", \"Flag\",\n",
    "                   \"Club\", \"Club Logo\", \"Value\", \"Wage\", \"Special\", \"Preferred Foot\",\n",
    "                   \"International Reputation\", \"Weak Foot\", \"Skill Moves\", \"Work Rate\",\n",
    "                   \"Body Type\", \"Real Face\", \"Position\", \"Jersey Number\", \"Joined\",\n",
    "                   \"Loaned From\", \"Contract Valid Until\", \"Height\", \"Weight\", \"LS\",\n",
    "                   \"ST\", \"RS\", \"LW\", \"LF\", \"CF\", \"RF\", \"RW\", \"LAM\", \"CAM\", \"RAM\", \"LM\",\n",
    "                   \"LCM\", \"CM\", \"RCM\", \"RM\", \"LWB\", \"LDM\", \"CDM\", \"RDM\", \"RWB\", \"LB\", \"LCB\",\n",
    "                   \"CB\", \"RCB\", \"RB\", \"Release Clause\"\n",
    "]\n",
    "\n",
    "try:\n",
    "    fifa.drop(columns_to_drop, axis=1, inplace=True)\n",
    "except KeyError:\n",
    "    logger.warning(f\"Columns already dropped\")"
   ]
  },
  {
   "cell_type": "markdown",
   "metadata": {},
   "source": [
    "## Inicia sua análise a partir daqui"
   ]
  },
  {
   "cell_type": "code",
   "execution_count": 264,
   "metadata": {},
   "outputs": [],
   "source": [
    "# 1 - tranformei o dataframe em array (matriz)\n",
    "# 2 - removi as linhas sem com valor NaN\n",
    "# 3 - depois apliquei o PCA\n",
    "\n",
    "\n",
    "aux =  pd.DataFrame(fifa)\n",
    "aux_array = aux.dropna()\n",
    "aux_array_sem_nan = aux_array.to_numpy()\n",
    "\n",
    "pca = PCA(n_components=2)\n",
    "projected = pca.fit_transform(aux_array_sem_nan.data)\n",
    "#print(f\"Original shape: {aux_array_sem_nan.data.shape}, projected shape: {projected.shape}\")\n",
    "pca = PCA().fit(aux_array_sem_nan.data)\n",
    "\n",
    "#Resultado questao 1\n",
    "evr = pca.explained_variance_ratio_\n",
    "#print(round(evr[0],3))\n",
    "\n",
    "#Resultado questao 2\n",
    "cumulative_variance_ratio = np.cumsum(evr)\n",
    "component_number = np.argmax(cumulative_variance_ratio >= 0.95) + 1 # Contagem começa em zero.\n",
    "#print(component_number)"
   ]
  },
  {
   "cell_type": "markdown",
   "metadata": {},
   "source": [
    "## Questão 1\n",
    "\n",
    "Qual fração da variância consegue ser explicada pelo primeiro componente principal de `fifa`? Responda como um único float (entre 0 e 1) arredondado para três casas decimais."
   ]
  },
  {
   "cell_type": "code",
   "execution_count": null,
   "metadata": {},
   "outputs": [],
   "source": [
    "def q1():\n",
    "    return float(round(evr[0],3))\n",
    "    pass"
   ]
  },
  {
   "cell_type": "markdown",
   "metadata": {},
   "source": [
    "## Questão 2\n",
    "\n",
    "Quantos componentes principais precisamos para explicar 95% da variância total? Responda como un único escalar inteiro."
   ]
  },
  {
   "cell_type": "code",
   "execution_count": null,
   "metadata": {},
   "outputs": [],
   "source": [
    "def q2():\n",
    "    return int(component_number)\n",
    "    pass"
   ]
  },
  {
   "cell_type": "markdown",
   "metadata": {},
   "source": [
    "## Questão 3\n",
    "\n",
    "Qual são as coordenadas (primeiro e segundo componentes principais) do ponto `x` abaixo? O vetor abaixo já está centralizado. Cuidado para __não__ centralizar o vetor novamente (por exemplo, invocando `PCA.transform()` nele). Responda como uma tupla de float arredondados para três casas decimais."
   ]
  },
  {
   "cell_type": "code",
   "execution_count": 64,
   "metadata": {},
   "outputs": [],
   "source": [
    "x = [  0.87747123,  -1.24990363,  -1.3191255,  -36.7341814, -35.55091139, -37.29814417, \n",
    "     -28.68671182,  -30.90902583,  -42.37100061, -32.17082438, -28.86315326, -22.71193348,\n",
    "     -38.36945867, -20.61407566,   -22.72696734, -25.50360703, 2.16339005, -27.96657305,  \n",
    "     -33.46004736,  -5.08943224, -30.21994603,   3.68803348, -36.10997302, -30.86899058, \n",
    "     -22.69827634, -37.95847789, -22.40090313, -30.54859849, -26.64827358, -19.28162344, \n",
    "     -34.69783578, -34.6614351,  48.38377664,  47.60840355,  45.76793876,  44.61110193,\n",
    "     49.28911284\n",
    "]"
   ]
  },
  {
   "cell_type": "code",
   "execution_count": 265,
   "metadata": {},
   "outputs": [],
   "source": [
    "#treinar com base no df principal que foi algo que me estava faltando\n",
    "pca.fit(aux_array_sem_nan)\n",
    "pca_data = pca.transform(aux_array_sem_nan)\n",
    "#per_var = pca.explained_variance_ratio_\n",
    "per_var = np.round(pca.explained_variance_ratio_*100, decimals=3)\n",
    "labels = ['PC' + str(x) for x in range(1, len(per_var)+1)]"
   ]
  },
  {
   "cell_type": "markdown",
   "metadata": {},
   "source": [
    "pca.components_.shape"
   ]
  },
  {
   "cell_type": "markdown",
   "metadata": {},
   "source": [
    "plt.bar(x=range(1, len(per_var)+1), height=per_var, tick_label = labels)\n",
    "plt.ylabel('Porcentacem por Explained Variance')\n",
    "plt.xlabel('Principal Component')\n",
    "plt.title('Grafico')\n",
    "plt.show()"
   ]
  },
  {
   "cell_type": "markdown",
   "metadata": {},
   "source": [
    "pca_df = pd.DataFrame(pca_data, columns=labels)\n",
    "plt.scatter(pca_df.PC1, pca_df.PC2)\n",
    "plt.title('Grafico PCA')\n",
    "plt.xlabel('PC1 - {0}%'.format(per_var[0]))\n",
    "plt.ylabel('PC2 - {0}%'.format(per_var[1]))\n",
    "\n",
    "#for sample in pca_df.index:\n",
    "    #plt.annotate(sample, (pca_df.PC1.loc[sample], pca_df.PC2.loc[sample]))\n",
    "    \n",
    "plt.show()"
   ]
  },
  {
   "cell_type": "markdown",
   "metadata": {},
   "source": [
    "print(np.round(pca.components_.dot(x)[0], decimals=3))\n",
    "print(np.round(pca.components_.dot(x)[1], decimals=3))"
   ]
  },
  {
   "cell_type": "code",
   "execution_count": null,
   "metadata": {},
   "outputs": [],
   "source": [
    "def q3():\n",
    "    return (np.round(pca.components_.dot(x)[0], decimals=3), np.round(pca.components_.dot(x)[1], decimals=3))\n",
    "    pass"
   ]
  },
  {
   "cell_type": "markdown",
   "metadata": {},
   "source": [
    "## Questão 4\n",
    "\n",
    "Realiza RFE com estimador de regressão linear para selecionar cinco variáveis, eliminando uma a uma. Quais são as variáveis selecionadas? Responda como uma lista de nomes de variáveis."
   ]
  },
  {
   "cell_type": "code",
   "execution_count": null,
   "metadata": {},
   "outputs": [],
   "source": [
    "def q4():\n",
    "    # salvando o df fifa em um df aux\n",
    "    aux =  pd.DataFrame(fifa)\n",
    "\n",
    "    #df auxiliar sem NaN\n",
    "    df_aux = aux.dropna()\n",
    "\n",
    "    #df com todas as colunas sem Overall\n",
    "    y_train = df_aux['Overall']\n",
    "\n",
    "    #df com a coluna Overall (usei essa coluna como dica do pessoal na comunidade do curso)\n",
    "    x_train = df_aux.drop(columns = 'Overall')\n",
    "\n",
    "    #transformando x_train e y_train para array\n",
    "    y = y_train.to_numpy()\n",
    "    x = x_train.to_numpy()\n",
    "\n",
    "    #agora sim implementando o RFE\n",
    "    svm = LinearRegression()\n",
    "    rfe = RFE(svm, 5)\n",
    "    rfe = rfe.fit(x, y)\n",
    "\n",
    "    #criando um df auxiliar para visualizar melhor o resultado\n",
    "    df_aux_result = pd.DataFrame({'coluna':x_train.columns,\n",
    "              'bool': rfe.support_,\n",
    "              'ranking': rfe.ranking_})\n",
    "\n",
    "    #filtrando o df axuliar de resultado  pelo ranking para pegar as 5 variaveis \n",
    "    variaveis = list(df_aux_result['coluna'][df_aux_result['ranking']==1])\n",
    "\n",
    "    return variaveis\n",
    "    pass"
   ]
  }
 ],
 "metadata": {
  "kernelspec": {
   "display_name": "Python 3",
   "language": "python",
   "name": "python3"
  },
  "language_info": {
   "codemirror_mode": {
    "name": "ipython",
    "version": 3
   },
   "file_extension": ".py",
   "mimetype": "text/x-python",
   "name": "python",
   "nbconvert_exporter": "python",
   "pygments_lexer": "ipython3",
   "version": "3.7.6"
  }
 },
 "nbformat": 4,
 "nbformat_minor": 2
}
