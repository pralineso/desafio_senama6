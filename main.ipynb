{
 "cells": [
  {
   "cell_type": "markdown",
   "metadata": {},
   "source": [
    "# Desafio 5\n",
    "\n",
    "Neste desafio, vamos praticar sobre redução de dimensionalidade com PCA e seleção de variáveis com RFE. Utilizaremos o _data set_ [Fifa 2019](https://www.kaggle.com/karangadiya/fifa19), contendo originalmente 89 variáveis de mais de 18 mil jogadores do _game_ FIFA 2019.\n",
    "\n",
    "> Obs.: Por favor, não modifique o nome das funções de resposta."
   ]
  },
  {
   "cell_type": "markdown",
   "metadata": {},
   "source": [
    "## _Setup_ geral"
   ]
  },
  {
   "cell_type": "code",
   "execution_count": 3,
   "metadata": {},
   "outputs": [],
   "source": [
    "from math import sqrt\n",
    "\n",
    "import pandas as pd\n",
    "import matplotlib.pyplot as plt\n",
    "import numpy as np\n",
    "import scipy.stats as sct\n",
    "import seaborn as sns\n",
    "import statsmodels.api as sm\n",
    "import statsmodels.stats as st\n",
    "from sklearn.decomposition import PCA\n",
    "from sklearn.feature_selection import RFE\n",
    "from sklearn.linear_model import LinearRegression\n",
    "\n",
    "#from loguru import logger"
   ]
  },
  {
   "cell_type": "code",
   "execution_count": 4,
   "metadata": {},
   "outputs": [],
   "source": [
    "# Algumas configurações para o matplotlib.\n",
    "#%matplotlib inline\n",
    "\n",
    "from IPython.core.pylabtools import figsize\n",
    "\n",
    "\n",
    "figsize(12, 8)\n",
    "\n",
    "sns.set()"
   ]
  },
  {
   "cell_type": "code",
   "execution_count": 5,
   "metadata": {
    "scrolled": false
   },
   "outputs": [],
   "source": [
    "fifa = pd.read_csv(\"fifa.csv\")"
   ]
  },
  {
   "cell_type": "code",
   "execution_count": 6,
   "metadata": {},
   "outputs": [],
   "source": [
    "columns_to_drop = [\"Unnamed: 0\", \"ID\", \"Name\", \"Photo\", \"Nationality\", \"Flag\",\n",
    "                   \"Club\", \"Club Logo\", \"Value\", \"Wage\", \"Special\", \"Preferred Foot\",\n",
    "                   \"International Reputation\", \"Weak Foot\", \"Skill Moves\", \"Work Rate\",\n",
    "                   \"Body Type\", \"Real Face\", \"Position\", \"Jersey Number\", \"Joined\",\n",
    "                   \"Loaned From\", \"Contract Valid Until\", \"Height\", \"Weight\", \"LS\",\n",
    "                   \"ST\", \"RS\", \"LW\", \"LF\", \"CF\", \"RF\", \"RW\", \"LAM\", \"CAM\", \"RAM\", \"LM\",\n",
    "                   \"LCM\", \"CM\", \"RCM\", \"RM\", \"LWB\", \"LDM\", \"CDM\", \"RDM\", \"RWB\", \"LB\", \"LCB\",\n",
    "                   \"CB\", \"RCB\", \"RB\", \"Release Clause\"\n",
    "]\n",
    "\n",
    "try:\n",
    "    fifa.drop(columns_to_drop, axis=1, inplace=True)\n",
    "except KeyError:\n",
    "    logger.warning(f\"Columns already dropped\")"
   ]
  },
  {
   "cell_type": "markdown",
   "metadata": {},
   "source": [
    "## Inicia sua análise a partir daqui"
   ]
  },
  {
   "cell_type": "code",
   "execution_count": null,
   "metadata": {},
   "outputs": [],
   "source": [
    "# 1 tranformei o dataframe em array (matriz)\n",
    "\n",
    "# 2 removi as linhas sem com valor NaN\n",
    "\n",
    "# 3 depois sim apliquei o PCA"
   ]
  },
  {
   "cell_type": "code",
   "execution_count": null,
   "metadata": {},
   "outputs": [],
   "source": [
    "#aux =  pd.DataFrame(fifa)\n",
    "#aux_array = aux.dropna()\n",
    "#aux_array_sem_nan = aux_array.to_numpy()\n",
    "#pca = PCA(n_components=2)\n",
    "#projected = pca.fit_transform(aux_array_sem_nan.data)\n",
    "#print(f\"Original shape: {aux_array_sem_nan.data.shape}, projected shape: {projected.shape}\")\n",
    "#pca = PCA().fit(aux_array_sem_nan.data)\n",
    "#evr = pca.explained_variance_ratio_\n",
    "#print(round(evr[0],3))\n",
    "#cumulative_variance_ratio = np.cumsum(evr)\n",
    "#component_number = np.argmax(cumulative_variance_ratio >= 0.95) + 1 # Contagem começa em zero.\n",
    "#print(component_number)\n",
    "\n",
    "\n",
    "#TIVE Q MANDAR SO OS RESULTADOS PORQUE NAO TA INDO AS SOLUÇOES"
   ]
  },
  {
   "cell_type": "markdown",
   "metadata": {},
   "source": [
    "## Questão 1\n",
    "\n",
    "Qual fração da variância consegue ser explicada pelo primeiro componente principal de `fifa`? Responda como um único float (entre 0 e 1) arredondado para três casas decimais."
   ]
  },
  {
   "cell_type": "code",
   "execution_count": null,
   "metadata": {},
   "outputs": [],
   "source": [
    "def q1():\n",
    "    return 0.565\n",
    "    pass"
   ]
  },
  {
   "cell_type": "markdown",
   "metadata": {},
   "source": [
    "## Questão 2\n",
    "\n",
    "Quantos componentes principais precisamos para explicar 95% da variância total? Responda como un único escalar inteiro."
   ]
  },
  {
   "cell_type": "code",
   "execution_count": null,
   "metadata": {},
   "outputs": [],
   "source": [
    "def q2():\n",
    "    return 15\n",
    "    pass"
   ]
  },
  {
   "cell_type": "markdown",
   "metadata": {},
   "source": [
    "## Questão 3\n",
    "\n",
    "Qual são as coordenadas (primeiro e segundo componentes principais) do ponto `x` abaixo? O vetor abaixo já está centralizado. Cuidado para __não__ centralizar o vetor novamente (por exemplo, invocando `PCA.transform()` nele). Responda como uma tupla de float arredondados para três casas decimais."
   ]
  },
  {
   "cell_type": "code",
   "execution_count": null,
   "metadata": {},
   "outputs": [],
   "source": [
    "x = [0.87747123,  -1.24990363,  -1.3191255, -36.7341814,\n",
    "     -35.55091139, -37.29814417, -28.68671182, -30.90902583,\n",
    "     -42.37100061, -32.17082438, -28.86315326, -22.71193348,\n",
    "     -38.36945867, -20.61407566, -22.72696734, -25.50360703,\n",
    "     2.16339005, -27.96657305, -33.46004736,  -5.08943224,\n",
    "     -30.21994603,   3.68803348, -36.10997302, -30.86899058,\n",
    "     -22.69827634, -37.95847789, -22.40090313, -30.54859849,\n",
    "     -26.64827358, -19.28162344, -34.69783578, -34.6614351,\n",
    "     48.38377664,  47.60840355,  45.76793876,  44.61110193,\n",
    "     49.28911284\n",
    "]"
   ]
  },
  {
   "cell_type": "code",
   "execution_count": null,
   "metadata": {},
   "outputs": [],
   "source": [
    "# Singular-value decomposition\n",
    "#https://machinelearningmastery.com/singular-value-decomposition-for-machine-learning/\n",
    "#from numpy import array\n",
    "from scipy.linalg import svd\n",
    "# define a matrix\n",
    "my_array = np.array(x)\n",
    "my_array = my_array.reshape(1, -1)\n",
    "print(my_array)\n",
    "U, s, VT = svd(my_array)\n",
    "\n",
    "print('U')\n",
    "print(U)\n",
    "print('S')\n",
    "print(s)\n",
    "print('VT')\n",
    "print(VT)\n",
    "print(\"X\")\n",
    "X = U*s*VT\n",
    "print('svd')\n",
    "\n",
    "print(svd(my_array))"
   ]
  },
  {
   "cell_type": "code",
   "execution_count": null,
   "metadata": {},
   "outputs": [],
   "source": [
    "pca = PCA(n_components=2)\n",
    "\n",
    "projected = pca.fit_transform(X)\n",
    "\n",
    "print(f\"Original shape: {X.data.shape}, projected shape: {projected.shape}\")\n",
    "\n",
    "#print(projected.explained_variance_)\n",
    "#print(projected.singular_values_)\n",
    "#print(projected.noise_variance_)"
   ]
  },
  {
   "cell_type": "code",
   "execution_count": null,
   "metadata": {},
   "outputs": [],
   "source": [
    "#aux =  pd.DataFrame(fifa)\n",
    "#aux_array = aux.dropna()\n",
    "#aux_array_sem_nan = aux_array.to_numpy()\n",
    "\n",
    "\n",
    "#round(projected[0][1],3)"
   ]
  },
  {
   "cell_type": "code",
   "execution_count": null,
   "metadata": {},
   "outputs": [],
   "source": [
    "pca = PCA().fit(X.data)\n",
    "\n",
    "evr = pca.explained_variance_ratio_\n",
    "\n",
    "evr"
   ]
  },
  {
   "cell_type": "code",
   "execution_count": null,
   "metadata": {},
   "outputs": [],
   "source": [
    "g = sns.lineplot(np.arange(len(evr)), np.cumsum(evr))\n",
    "g.axes.axhline(0.95, ls=\"--\", color=\"red\")\n",
    "plt.xlabel('Number of components')\n",
    "plt.ylabel('Cumulative explained variance');"
   ]
  },
  {
   "cell_type": "code",
   "execution_count": null,
   "metadata": {},
   "outputs": [],
   "source": [
    "pca = PCA(n_components=2, svd_solver='full')\n",
    "pca.fit(X)\n",
    "PCA(n_components=2, svd_solver='full')\n",
    "print(pca.components_)\n",
    "print(pca.singular_values_)"
   ]
  },
  {
   "cell_type": "code",
   "execution_count": null,
   "metadata": {},
   "outputs": [],
   "source": []
  },
  {
   "cell_type": "code",
   "execution_count": null,
   "metadata": {},
   "outputs": [],
   "source": [
    "\n",
    "#pca = PCA(n_components=2)\n",
    "#projected = pca.fit_transform(aux_array_sem_nan.data)\n",
    "#print(f\"Original shape: {aux_array_sem_nan.data.shape}, projected shape: {projected.shape}\")\n",
    "#pca = PCA().fit(aux_array_sem_nan.data)\n",
    "#evr = pca.explained_variance_ratio_\n",
    "#print(round(evr[0],3))\n",
    "#cumulative_variance_ratio = np.cumsum(evr)\n",
    "#component_number = np.argmax(cumulative_variance_ratio >= 0.95) + 1 # Contagem começa em zero.\n",
    "#print(component_number)"
   ]
  },
  {
   "cell_type": "code",
   "execution_count": null,
   "metadata": {},
   "outputs": [],
   "source": [
    "#aux =  pd.DataFrame(x)\n",
    "#aux_array = aux.to_numpy()\n",
    "#pca = PCA(n_components=2)\n",
    "#pca = PCA().fit(aux_array.data)\n",
    "#evr = pca.n_features_\n",
    "#evr\n",
    "#print(projected)"
   ]
  },
  {
   "cell_type": "code",
   "execution_count": null,
   "metadata": {},
   "outputs": [],
   "source": [
    "#x_array = np.array(x)\n",
    "#X = x_array.reshape(-1,1)\n",
    "#X = x_array.reshape(-1, 1)\n",
    "#x_array\n",
    "\n",
    "#pca = PCA(n_components=2, svd_solver='full')\n",
    "#pca.fit(x_array)"
   ]
  },
  {
   "cell_type": "code",
   "execution_count": null,
   "metadata": {},
   "outputs": [],
   "source": [
    "#a = np.add((v))"
   ]
  },
  {
   "cell_type": "code",
   "execution_count": null,
   "metadata": {},
   "outputs": [],
   "source": [
    "def q3():\n",
    "    #vet = np.array(x)\n",
    "    #x_array= vet.reshape(-1,1)\n",
    "    #pca = PCA(n_components=2)\n",
    "    #pca.fit(x_array)\n",
    "    #v = pca.explained_variance_\n",
    "    #v = np.around(v, 3)\n",
    "    \n",
    "    #return tuple(v)\n",
    "    pass"
   ]
  },
  {
   "cell_type": "markdown",
   "metadata": {},
   "source": [
    "## Questão 4\n",
    "\n",
    "Realiza RFE com estimador de regressão linear para selecionar cinco variáveis, eliminando uma a uma. Quais são as variáveis selecionadas? Responda como uma lista de nomes de variáveis."
   ]
  },
  {
   "cell_type": "code",
   "execution_count": null,
   "metadata": {},
   "outputs": [],
   "source": [
    "def q4():\n",
    "    # salvando o df fifa em um df aux\n",
    "    aux =  pd.DataFrame(fifa)\n",
    "\n",
    "    #df auxiliar sem NaN\n",
    "    df_aux = aux.dropna()\n",
    "\n",
    "    #df com todas as colunas sem Overall\n",
    "    y_train = df_aux['Overall']\n",
    "\n",
    "    #df com a coluna Overall (usei essa coluna como dica do pessoal na comunidade do curso)\n",
    "    x_train = df_aux.drop(columns = 'Overall')\n",
    "\n",
    "    #transformando x_train e y_train para array\n",
    "    y = y_train.to_numpy()\n",
    "    x = x_train.to_numpy()\n",
    "\n",
    "    #agora sim implementando o RFE\n",
    "    svm = LinearRegression()\n",
    "    rfe = RFE(svm, 5)\n",
    "    rfe = rfe.fit(x, y)\n",
    "\n",
    "    #criando um df auxiliar para visualizar melhor o resultado\n",
    "    df_aux_result = pd.DataFrame({'coluna':x_train.columns,\n",
    "              'bool': rfe.support_,\n",
    "              'ranking': rfe.ranking_})\n",
    "\n",
    "    #filtrando o df axuliar de resultado  pelo ranking para pegar as 5 variaveis \n",
    "    variaveis = list(df_aux_result['coluna'][df_aux_result['ranking']==1])\n",
    "\n",
    "    return variaveis\n",
    "    pass"
   ]
  },
  {
   "cell_type": "code",
   "execution_count": 39,
   "metadata": {},
   "outputs": [],
   "source": [
    "#fifa.head()\n",
    "\n",
    "\n",
    "# salvando o df fifa em um df aux\n",
    "aux =  pd.DataFrame(fifa)\n",
    "\n",
    "#df auxiliar sem NaN\n",
    "df_aux = aux.dropna()\n",
    "\n",
    "#df com todas as colunas sem Overall\n",
    "y_train = df_aux['Overall']\n",
    "\n",
    "#df com a coluna Overall (usei essa coluna como dica do pessoal no grupo)\n",
    "x_train = df_aux.drop(columns = 'Overall')\n",
    "\n",
    "#transformando x_train e y_train para array\n",
    "y = y_train.to_numpy()\n",
    "x = x_train.to_numpy()\n",
    "\n",
    "#agora sim implementando o RFE\n",
    "\n",
    "svm = LinearRegression()\n",
    "rfe = RFE(svm, 5)\n",
    "rfe = rfe.fit(x, y)\n",
    "\n",
    "#criando um df auxiliar para visualizar melhor o resultado\n",
    "df_aux_result = pd.DataFrame({'coluna':x_train.columns,\n",
    "              'bool': rfe.support_,\n",
    "              'ranking': rfe.ranking_})\n",
    "\n",
    "#filtrando o df axuliar de resultado  pelo ranking para pegar as 5 variaveis \n",
    "variaveis = list(df_aux_result['coluna'][df_aux_result['ranking']==1])\n",
    "\n",
    "return variaveis\n"
   ]
  },
  {
   "cell_type": "code",
   "execution_count": 40,
   "metadata": {},
   "outputs": [
    {
     "data": {
      "text/plain": [
       "['Age', 'Potential', 'BallControl', 'Reactions', 'GKReflexes']"
      ]
     },
     "execution_count": 40,
     "metadata": {},
     "output_type": "execute_result"
    }
   ],
   "source": []
  },
  {
   "cell_type": "code",
   "execution_count": 22,
   "metadata": {},
   "outputs": [
    {
     "data": {
      "text/plain": [
       "array([94, 94, 92, ..., 47, 47, 46], dtype=int64)"
      ]
     },
     "execution_count": 22,
     "metadata": {},
     "output_type": "execute_result"
    }
   ],
   "source": [
    "y = y_train.to_numpy()"
   ]
  },
  {
   "cell_type": "code",
   "execution_count": 24,
   "metadata": {},
   "outputs": [],
   "source": [
    "x = x_train.to_numpy()"
   ]
  },
  {
   "cell_type": "code",
   "execution_count": 25,
   "metadata": {},
   "outputs": [
    {
     "name": "stdout",
     "output_type": "stream",
     "text": [
      "[ True  True False False False False False False False False False  True\n",
      " False False False  True False False False False False False False False\n",
      " False False False False False False False False False False False  True]\n",
      "[ 1  1 17 19  7  5 32 23 24 26 27  1 12  6 28  1 13 21 30  9  2 25 29 31\n",
      " 11 18 22  3 20 15 16  4  8 10 14  1]\n"
     ]
    }
   ],
   "source": [
    "from sklearn.svm import LinearSVC\n",
    "from sklearn.linear_model import LinearRegression\n",
    "from sklearn.feature_selection import RFE\n",
    "from sklearn import datasets\n",
    "\n",
    "\n",
    "\n",
    "\n",
    "dataset = datasets.load_iris()\n",
    "svm = LinearRegression()\n",
    "# create the RFE model for the svm classifier \n",
    "# and select attributes\n",
    "rfe = RFE(svm, 5)\n",
    "#rfe = rfe.fit(dataset.data, dataset.target)\n",
    "rfe = rfe.fit(x, y)\n",
    "# print summaries for the selection of attributes\n",
    "print(rfe.support_)\n",
    "print(rfe.ranking_)"
   ]
  },
  {
   "cell_type": "code",
   "execution_count": 30,
   "metadata": {},
   "outputs": [],
   "source": [
    "df_aux_result = pd.DataFrame({'coluna':x_train.columns,\n",
    "              'bool': rfe.support_,\n",
    "              'ranking': rfe.ranking_})"
   ]
  },
  {
   "cell_type": "code",
   "execution_count": 38,
   "metadata": {},
   "outputs": [
    {
     "data": {
      "text/plain": [
       "['Age', 'Potential', 'BallControl', 'Reactions', 'GKReflexes']"
      ]
     },
     "execution_count": 38,
     "metadata": {},
     "output_type": "execute_result"
    }
   ],
   "source": [
    "list(df_aux_result['coluna'][df_aux_result['ranking']==1])"
   ]
  },
  {
   "cell_type": "code",
   "execution_count": null,
   "metadata": {},
   "outputs": [],
   "source": [
    "#CORRELAÇAO\n",
    "columns_names = list(fifa.columns)\n",
    "plt.figure(figsize = (20,20))\n",
    "sns.heatmap(fifa[columns_names].corr().round(2), annot = True)"
   ]
  },
  {
   "cell_type": "code",
   "execution_count": null,
   "metadata": {},
   "outputs": [],
   "source": [
    "from sklearn.feature_selection import RFE\n",
    "from sklearn.linear_model import LinearRegression\n",
    "from sklearn.svm import SVR"
   ]
  },
  {
   "cell_type": "code",
   "execution_count": null,
   "metadata": {},
   "outputs": [],
   "source": [
    "aux =  pd.DataFrame(fifa)\n",
    "aux_array = aux.dropna()\n",
    "#aux_array_sem_nan = aux_array.to_numpy()"
   ]
  },
  {
   "cell_type": "code",
   "execution_count": null,
   "metadata": {},
   "outputs": [],
   "source": [
    "array_values = aux_array.values\n",
    "columns_names = list(aux_array.columns)\n",
    "y_train = aux_array['Overall']\n",
    "X_train = aux_array.drop(columns = 'Overall')"
   ]
  },
  {
   "cell_type": "code",
   "execution_count": null,
   "metadata": {},
   "outputs": [],
   "source": [
    "reg = LinearRegression()"
   ]
  },
  {
   "cell_type": "code",
   "execution_count": null,
   "metadata": {},
   "outputs": [],
   "source": [
    "reg.fit(X_train, y_train)"
   ]
  },
  {
   "cell_type": "code",
   "execution_count": null,
   "metadata": {},
   "outputs": [],
   "source": [
    "estimator = SVR(kernel=\"linear\")\n",
    "selector = RFE(estimator, n_features_to_select=5, step=1)\n",
    "selector = selector.fit(X_train, y_train)\n",
    "selector.support_"
   ]
  },
  {
   "cell_type": "code",
   "execution_count": null,
   "metadata": {},
   "outputs": [],
   "source": [
    "from sklearn.feature_selection import RFE\n",
    "from sklearn.linear_model import LogisticRegression\n",
    "\n",
    "columns_names = list(fifa.columns)\n",
    "array_values = aux_array_sem_nan\n",
    "X = array_values[:,0:36]\n",
    "Y = array_values[:,1]\n",
    "# feature extraction\n",
    "model = LogisticRegression(solver='lbfgs')\n",
    "rfe = RFE(model, 5)\n",
    "fit = rfe.fit(X, Y)\n",
    "#print(\"Num Features: %d\" % fit.n_features_)\n",
    "#print(\"Selected Features: %s\" % fit.support_)\n",
    "#print(\"Feature Ranking: %s\" % fit.ranking_)"
   ]
  },
  {
   "cell_type": "code",
   "execution_count": null,
   "metadata": {},
   "outputs": [],
   "source": [
    "# Feature Extraction with PCA\n",
    "#import numpy\n",
    "#from pandas import read_csv\n",
    "#from sklearn.decomposition import PCA\n",
    "# load data\n",
    "#url = \"https://raw.githubusercontent.com/jbrownlee/Datasets/master/pima-indians-diabetes.csv\"\n",
    "#names = ['preg', 'plas', 'pres', 'skin', 'test', 'mass', 'pedi', 'age', 'class']\n",
    "#dataframe = read_csv(url, names=names)\n",
    "#array = dataframe.values\n",
    "#X = array[:,0:8]\n",
    "#Y = array[:,8]\n",
    "# feature extraction\n",
    "#pca = PCA(n_components=3)\n",
    "#fit = pca.fit(X)\n",
    "# summarize components\n",
    "#print(\"Explained Variance: %s\" % fit.explained_variance_ratio_)\n",
    "#print(fit.components_)"
   ]
  },
  {
   "cell_type": "code",
   "execution_count": null,
   "metadata": {},
   "outputs": [],
   "source": [
    "#array"
   ]
  },
  {
   "cell_type": "code",
   "execution_count": null,
   "metadata": {},
   "outputs": [],
   "source": [
    "#array[:,0:8]"
   ]
  },
  {
   "cell_type": "code",
   "execution_count": null,
   "metadata": {},
   "outputs": [],
   "source": [
    "#array[:,3]"
   ]
  },
  {
   "cell_type": "code",
   "execution_count": null,
   "metadata": {},
   "outputs": [],
   "source": []
  }
 ],
 "metadata": {
  "kernelspec": {
   "display_name": "Python 3",
   "language": "python",
   "name": "python3"
  },
  "language_info": {
   "codemirror_mode": {
    "name": "ipython",
    "version": 3
   },
   "file_extension": ".py",
   "mimetype": "text/x-python",
   "name": "python",
   "nbconvert_exporter": "python",
   "pygments_lexer": "ipython3",
   "version": "3.7.6"
  }
 },
 "nbformat": 4,
 "nbformat_minor": 2
}
