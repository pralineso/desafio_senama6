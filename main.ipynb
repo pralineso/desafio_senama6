{
 "cells": [
  {
   "cell_type": "markdown",
   "metadata": {},
   "source": [
    "# Desafio 5\n",
    "\n",
    "Neste desafio, vamos praticar sobre redução de dimensionalidade com PCA e seleção de variáveis com RFE. Utilizaremos o _data set_ [Fifa 2019](https://www.kaggle.com/karangadiya/fifa19), contendo originalmente 89 variáveis de mais de 18 mil jogadores do _game_ FIFA 2019.\n",
    "\n",
    "> Obs.: Por favor, não modifique o nome das funções de resposta."
   ]
  },
  {
   "cell_type": "markdown",
   "metadata": {},
   "source": [
    "## _Setup_ geral"
   ]
  },
  {
   "cell_type": "code",
   "execution_count": 3,
   "metadata": {},
   "outputs": [],
   "source": [
    "from math import sqrt\n",
    "\n",
    "import pandas as pd\n",
    "import matplotlib.pyplot as plt\n",
    "import numpy as np\n",
    "import scipy.stats as sct\n",
    "import seaborn as sns\n",
    "import statsmodels.api as sm\n",
    "import statsmodels.stats as st\n",
    "from sklearn.decomposition import PCA\n",
    "from sklearn.feature_selection import RFE\n",
    "from sklearn.linear_model import LinearRegression\n",
    "\n",
    "#from loguru import logger"
   ]
  },
  {
   "cell_type": "code",
   "execution_count": 4,
   "metadata": {},
   "outputs": [],
   "source": [
    "# Algumas configurações para o matplotlib.\n",
    "#%matplotlib inline\n",
    "\n",
    "from IPython.core.pylabtools import figsize\n",
    "\n",
    "\n",
    "figsize(12, 8)\n",
    "\n",
    "sns.set()"
   ]
  },
  {
   "cell_type": "code",
   "execution_count": 5,
   "metadata": {
    "scrolled": false
   },
   "outputs": [],
   "source": [
    "fifa = pd.read_csv(\"fifa.csv\")"
   ]
  },
  {
   "cell_type": "code",
   "execution_count": 6,
   "metadata": {},
   "outputs": [],
   "source": [
    "columns_to_drop = [\"Unnamed: 0\", \"ID\", \"Name\", \"Photo\", \"Nationality\", \"Flag\",\n",
    "                   \"Club\", \"Club Logo\", \"Value\", \"Wage\", \"Special\", \"Preferred Foot\",\n",
    "                   \"International Reputation\", \"Weak Foot\", \"Skill Moves\", \"Work Rate\",\n",
    "                   \"Body Type\", \"Real Face\", \"Position\", \"Jersey Number\", \"Joined\",\n",
    "                   \"Loaned From\", \"Contract Valid Until\", \"Height\", \"Weight\", \"LS\",\n",
    "                   \"ST\", \"RS\", \"LW\", \"LF\", \"CF\", \"RF\", \"RW\", \"LAM\", \"CAM\", \"RAM\", \"LM\",\n",
    "                   \"LCM\", \"CM\", \"RCM\", \"RM\", \"LWB\", \"LDM\", \"CDM\", \"RDM\", \"RWB\", \"LB\", \"LCB\",\n",
    "                   \"CB\", \"RCB\", \"RB\", \"Release Clause\"\n",
    "]\n",
    "\n",
    "try:\n",
    "    fifa.drop(columns_to_drop, axis=1, inplace=True)\n",
    "except KeyError:\n",
    "    logger.warning(f\"Columns already dropped\")"
   ]
  },
  {
   "cell_type": "markdown",
   "metadata": {},
   "source": [
    "## Inicia sua análise a partir daqui"
   ]
  },
  {
   "cell_type": "code",
   "execution_count": null,
   "metadata": {},
   "outputs": [],
   "source": [
    "# 1 - tranformei o dataframe em array (matriz)\n",
    "\n",
    "# 2 - removi as linhas sem com valor NaN\n",
    "\n",
    "# 3 - depois apliquei o PCA"
   ]
  },
  {
   "cell_type": "code",
   "execution_count": null,
   "metadata": {},
   "outputs": [],
   "source": [
    "#aux =  pd.DataFrame(fifa)\n",
    "#aux_array = aux.dropna()\n",
    "#aux_array_sem_nan = aux_array.to_numpy()\n",
    "#pca = PCA(n_components=2)\n",
    "#projected = pca.fit_transform(aux_array_sem_nan.data)\n",
    "#print(f\"Original shape: {aux_array_sem_nan.data.shape}, projected shape: {projected.shape}\")\n",
    "#pca = PCA().fit(aux_array_sem_nan.data)\n",
    "#evr = pca.explained_variance_ratio_\n",
    "#print(round(evr[0],3))\n",
    "#cumulative_variance_ratio = np.cumsum(evr)\n",
    "#component_number = np.argmax(cumulative_variance_ratio >= 0.95) + 1 # Contagem começa em zero.\n",
    "#print(component_number)\n",
    "\n",
    "\n",
    "#TIVE Q MANDAR SO OS RESULTADOS PORQUE NAO TA INDO AS SOLUÇOES"
   ]
  },
  {
   "cell_type": "markdown",
   "metadata": {},
   "source": [
    "## Questão 1\n",
    "\n",
    "Qual fração da variância consegue ser explicada pelo primeiro componente principal de `fifa`? Responda como um único float (entre 0 e 1) arredondado para três casas decimais."
   ]
  },
  {
   "cell_type": "code",
   "execution_count": null,
   "metadata": {},
   "outputs": [],
   "source": [
    "def q1():\n",
    "    return 0.565\n",
    "    pass"
   ]
  },
  {
   "cell_type": "markdown",
   "metadata": {},
   "source": [
    "## Questão 2\n",
    "\n",
    "Quantos componentes principais precisamos para explicar 95% da variância total? Responda como un único escalar inteiro."
   ]
  },
  {
   "cell_type": "code",
   "execution_count": null,
   "metadata": {},
   "outputs": [],
   "source": [
    "def q2():\n",
    "    return 15\n",
    "    pass"
   ]
  },
  {
   "cell_type": "markdown",
   "metadata": {},
   "source": [
    "## Questão 3\n",
    "\n",
    "Qual são as coordenadas (primeiro e segundo componentes principais) do ponto `x` abaixo? O vetor abaixo já está centralizado. Cuidado para __não__ centralizar o vetor novamente (por exemplo, invocando `PCA.transform()` nele). Responda como uma tupla de float arredondados para três casas decimais."
   ]
  },
  {
   "cell_type": "code",
   "execution_count": null,
   "metadata": {},
   "outputs": [],
   "source": [
    "# eixo X e Y \n",
    "# ponto plotados nesses eixos\n",
    "# aqui no exemplo eu tenho o ponto x\n",
    "# cada valor/coluna/variavel = d\n",
    "# eleva d ao quadrado = d²\n",
    "# depois soma tds os d² ==  SS\n",
    "\n",
    "\n",
    "# 1 alternativa para resolucao: fazer o procedmento com n_componentes = 1 ... ordenar os valores resultantes\n",
    "# e pegar os 2 primeiros valores\n",
    "\n",
    "# 2 alternativa para resolucao: duplicar o ponto x e pegar os q tiveram menor valor"
   ]
  },
  {
   "cell_type": "code",
   "execution_count": 64,
   "metadata": {},
   "outputs": [],
   "source": [
    "x = [  0.87747123,  -1.24990363,  -1.3191255,  -36.7341814, -35.55091139, -37.29814417, \n",
    "     -28.68671182,  -30.90902583,  -42.37100061, -32.17082438, -28.86315326, -22.71193348,\n",
    "     -38.36945867, -20.61407566,   -22.72696734, -25.50360703, 2.16339005, -27.96657305,  \n",
    "     -33.46004736,  -5.08943224, -30.21994603,   3.68803348, -36.10997302, -30.86899058, \n",
    "     -22.69827634, -37.95847789, -22.40090313, -30.54859849, -26.64827358, -19.28162344, \n",
    "     -34.69783578, -34.6614351,  48.38377664,  47.60840355,  45.76793876,  44.61110193,\n",
    "     49.28911284\n",
    "]"
   ]
  },
  {
   "cell_type": "code",
   "execution_count": 112,
   "metadata": {},
   "outputs": [
    {
     "data": {
      "text/plain": [
       "StandardScaler(copy=True, with_mean=True, with_std=True)"
      ]
     },
     "execution_count": 112,
     "metadata": {},
     "output_type": "execute_result"
    }
   ],
   "source": [
    "from sklearn.preprocessing import StandardScaler\n",
    "\n",
    "scaler=StandardScaler()\n",
    "scaler.fit(Y)\n",
    "\n"
   ]
  },
  {
   "cell_type": "code",
   "execution_count": 114,
   "metadata": {},
   "outputs": [],
   "source": [
    "scaled_data=scaler.transform(Y)\n"
   ]
  },
  {
   "cell_type": "code",
   "execution_count": 116,
   "metadata": {},
   "outputs": [],
   "source": [
    "pca=PCA(n_components=1)\n",
    "pca.fit(scaled_data)\n",
    "x_pca=pca.transform(scaled_data)"
   ]
  },
  {
   "cell_type": "code",
   "execution_count": 117,
   "metadata": {},
   "outputs": [
    {
     "data": {
      "text/plain": [
       "(37, 1)"
      ]
     },
     "execution_count": 117,
     "metadata": {},
     "output_type": "execute_result"
    }
   ],
   "source": [
    "scaled_data.shape"
   ]
  },
  {
   "cell_type": "code",
   "execution_count": 118,
   "metadata": {},
   "outputs": [
    {
     "data": {
      "text/plain": [
       "(37, 1)"
      ]
     },
     "execution_count": 118,
     "metadata": {},
     "output_type": "execute_result"
    }
   ],
   "source": [
    "x_pca.shape"
   ]
  },
  {
   "cell_type": "code",
   "execution_count": null,
   "metadata": {},
   "outputs": [],
   "source": []
  },
  {
   "cell_type": "code",
   "execution_count": 152,
   "metadata": {},
   "outputs": [
    {
     "name": "stdout",
     "output_type": "stream",
     "text": [
      "shape X: (1, 37) shape Y: (37, 1)\n"
     ]
    }
   ],
   "source": [
    "# transformando o ponto x em um array \n",
    "X = np.array(x)\n",
    "# tranformando em um array 1x37 = 1 linha com 37 colunas\n",
    "\n",
    "X = X.reshape(1, -1)\n",
    "Y = X.reshape(-1, 1)\n",
    "print('shape X:', X.shape, 'shape Y:',Y.shape)\n",
    "#print(Y)\n",
    "# assert None == (186.556, -6.592)\n",
    "#0.87747123  -1.24990363  -1.3191255  -36.7341814  -35.55091139 -37.29814417 -28.68671182 -30.90902583 -42.37100061 -32.17082438  -28.86315326 -22.71193348 -38.36945867 -20.61407566 -22.72696734 -25.50360703   2.16339005 -27.96657305 -33.46004736  -5.08943224 -30.21994603   3.68803348 -36.10997302 -30.86899058 -22.69827634  -37.95847789 -22.40090313 -30.54859849 -26.64827358 -19.28162344 -34.69783578 -34.6614351   48.38377664  47.60840355  45.76793876 44.61110193  49.28911284\n",
    " \n"
   ]
  },
  {
   "cell_type": "code",
   "execution_count": 96,
   "metadata": {},
   "outputs": [
    {
     "name": "stdout",
     "output_type": "stream",
     "text": [
      "[nan]\n",
      "[0.]\n"
     ]
    },
    {
     "name": "stderr",
     "output_type": "stream",
     "text": [
      "C:\\Users\\mxapi\\anaconda3\\lib\\site-packages\\sklearn\\decomposition\\_pca.py:454: RuntimeWarning: invalid value encountered in true_divide\n",
      "  explained_variance_ = (S ** 2) / (n_samples - 1)\n"
     ]
    }
   ],
   "source": [
    "import numpy as np\n",
    "from sklearn.decomposition import PCA\n",
    "\n",
    "#defincindo o numero de componentes \n",
    "pca = PCA(n_components=2)\n",
    "#aplicando a pca\n",
    "pca.fit_transform(X)\n",
    "print(pca.explained_variance_ratio_)\n",
    "print(pca.singular_values_)"
   ]
  },
  {
   "cell_type": "code",
   "execution_count": 91,
   "metadata": {},
   "outputs": [
    {
     "name": "stdout",
     "output_type": "stream",
     "text": [
      "[0.99244289 0.00755711]\n",
      "[6.30061232 0.54980396]\n"
     ]
    }
   ],
   "source": [
    "import numpy as np\n",
    "from sklearn.decomposition import PCA\n",
    "X = np.array([[-1, -1], [-2, -1], [-3, -2], [1, 1], [2, 1], [3, 2]])\n",
    "pca = PCA(n_components=2)\n",
    "pca.fit(X)\n",
    "print(pca.explained_variance_ratio_)\n",
    "print(pca.singular_values_)"
   ]
  },
  {
   "cell_type": "code",
   "execution_count": null,
   "metadata": {},
   "outputs": [],
   "source": [
    "# Singular-value decomposition\n",
    "#https://machinelearningmastery.com/singular-value-decomposition-for-machine-learning/\n",
    "#from numpy import array\n",
    "\n",
    "#from scipy.linalg import svd\n",
    "# define a matrix\n",
    "#my_array = np.array(x)\n",
    "#my_array = my_array.reshape(1, -1)\n",
    "#print(my_array)\n",
    "#U, s, VT = svd(my_array)\n",
    "\n",
    "#print('U')\n",
    "#print(U)\n",
    "#print('S')\n",
    "#print(s)\n",
    "#print('VT')\n",
    "#print(VT)\n",
    "#print(\"X\")\n",
    "#X = U*s*VT\n",
    "#print('svd')\n",
    "\n",
    "#print(svd(my_array))"
   ]
  },
  {
   "cell_type": "code",
   "execution_count": null,
   "metadata": {},
   "outputs": [],
   "source": [
    "#pca = PCA(n_components=2)\n",
    "\n",
    "#projected = pca.fit_transform(X)\n",
    "\n",
    "#print(f\"Original shape: {X.data.shape}, projected shape: {projected.shape}\")\n",
    "\n",
    "#print(projected.explained_variance_)\n",
    "#print(projected.singular_values_)\n",
    "#print(projected.noise_variance_)"
   ]
  },
  {
   "cell_type": "code",
   "execution_count": null,
   "metadata": {},
   "outputs": [],
   "source": [
    "#aux =  pd.DataFrame(fifa)\n",
    "#aux_array = aux.dropna()\n",
    "#aux_array_sem_nan = aux_array.to_numpy()\n",
    "\n",
    "\n",
    "#round(projected[0][1],3)"
   ]
  },
  {
   "cell_type": "code",
   "execution_count": null,
   "metadata": {},
   "outputs": [],
   "source": [
    "#pca = PCA().fit(X.data)\n",
    "\n",
    "#evr = pca.explained_variance_ratio_\n",
    "\n",
    "#evr"
   ]
  },
  {
   "cell_type": "code",
   "execution_count": null,
   "metadata": {},
   "outputs": [],
   "source": [
    "#g = sns.lineplot(np.arange(len(evr)), np.cumsum(evr))\n",
    "#g.axes.axhline(0.95, ls=\"--\", color=\"red\")\n",
    "#plt.xlabel('Number of components')\n",
    "#plt.ylabel('Cumulative explained variance');"
   ]
  },
  {
   "cell_type": "code",
   "execution_count": null,
   "metadata": {},
   "outputs": [],
   "source": [
    "#pca = PCA(n_components=2, svd_solver='full')\n",
    "#pca.fit(X)\n",
    "#PCA(n_components=2, svd_solver='full')\n",
    "#print(pca.components_)\n",
    "#print(pca.singular_values_)"
   ]
  },
  {
   "cell_type": "code",
   "execution_count": null,
   "metadata": {},
   "outputs": [],
   "source": []
  },
  {
   "cell_type": "code",
   "execution_count": null,
   "metadata": {},
   "outputs": [],
   "source": [
    "\n",
    "#pca = PCA(n_components=2)\n",
    "#projected = pca.fit_transform(aux_array_sem_nan.data)\n",
    "#print(f\"Original shape: {aux_array_sem_nan.data.shape}, projected shape: {projected.shape}\")\n",
    "#pca = PCA().fit(aux_array_sem_nan.data)\n",
    "#evr = pca.explained_variance_ratio_\n",
    "#print(round(evr[0],3))\n",
    "#cumulative_variance_ratio = np.cumsum(evr)\n",
    "#component_number = np.argmax(cumulative_variance_ratio >= 0.95) + 1 # Contagem começa em zero.\n",
    "#print(component_number)"
   ]
  },
  {
   "cell_type": "code",
   "execution_count": 166,
   "metadata": {},
   "outputs": [
    {
     "name": "stdout",
     "output_type": "stream",
     "text": [
      "190.12151101165395\n"
     ]
    }
   ],
   "source": [
    "aux =  pd.DataFrame(x)\n",
    "aux_array = aux.to_numpy()\n",
    "pca = PCA(n_components=2)\n",
    "pca = PCA().fit(mat.data)\n",
    "\n",
    "evr = pca.n_features_\n",
    "#print(pca.explained_variance_ratio_)\n",
    "#print(pca.singular_values_)\n",
    "#print(pca.explained_variance_)\n",
    "#print(pca.components_[0])\n",
    "print(pca.components_.dot(x)[0]) \n",
    "\n",
    "#print(round(pca.components_.dot(x)[1],3)) \n",
    "#print(projected)"
   ]
  },
  {
   "cell_type": "code",
   "execution_count": 158,
   "metadata": {},
   "outputs": [
    {
     "data": {
      "text/plain": [
       "(37, 37)"
      ]
     },
     "execution_count": 158,
     "metadata": {},
     "output_type": "execute_result"
    }
   ],
   "source": [
    "mat = np.dot(aux_array, aux_array.transpose())\n",
    "mat.shape"
   ]
  },
  {
   "cell_type": "code",
   "execution_count": 154,
   "metadata": {},
   "outputs": [
    {
     "name": "stdout",
     "output_type": "stream",
     "text": [
      "[[1 4 7]\n",
      " [2 5 8]\n",
      " [3 6 9]]\n",
      "[[1 2 3]\n",
      " [4 5 6]\n",
      " [7 8 9]]\n"
     ]
    }
   ],
   "source": [
    "mA = np.array([[1, 2, 3],[4, 5, 6],[7, 8, 9]])\n",
    "mB = np.array([[14, 32,  50],[32, 77,  122],[50, 122, 194]])\n",
    " \n",
    "#transposta\n",
    "mT = mA.transpose()\n",
    " \n",
    "#multiplica\n",
    "mR = np.dot(mA, mT)\n",
    "\n",
    "print(mT)\n",
    "print(mA)"
   ]
  },
  {
   "cell_type": "code",
   "execution_count": null,
   "metadata": {},
   "outputs": [],
   "source": [
    "#x_array = np.array(x)\n",
    "#X = x_array.reshape(-1,1)\n",
    "#X = x_array.reshape(-1, 1)\n",
    "#x_array\n",
    "\n",
    "#pca = PCA(n_components=2, svd_solver='full')\n",
    "#pca.fit(x_array)"
   ]
  },
  {
   "cell_type": "code",
   "execution_count": null,
   "metadata": {},
   "outputs": [],
   "source": [
    "#a = np.add((v))\n",
    "\n",
    "# assert None == (186.556, -6.592)"
   ]
  },
  {
   "cell_type": "code",
   "execution_count": null,
   "metadata": {},
   "outputs": [],
   "source": [
    "def q3():\n",
    "    #vet = np.array(x)\n",
    "    #x_array= vet.reshape(-1,1)\n",
    "    #pca = PCA(n_components=2)\n",
    "    #pca.fit(x_array)\n",
    "    #v = pca.explained_variance_\n",
    "    #v = np.around(v, 3)\n",
    "    \n",
    "    #return tuple(v)\n",
    "    pass"
   ]
  },
  {
   "cell_type": "markdown",
   "metadata": {},
   "source": [
    "## Questão 4\n",
    "\n",
    "Realiza RFE com estimador de regressão linear para selecionar cinco variáveis, eliminando uma a uma. Quais são as variáveis selecionadas? Responda como uma lista de nomes de variáveis."
   ]
  },
  {
   "cell_type": "code",
   "execution_count": null,
   "metadata": {},
   "outputs": [],
   "source": [
    "def q4():\n",
    "    # salvando o df fifa em um df aux\n",
    "    aux =  pd.DataFrame(fifa)\n",
    "\n",
    "    #df auxiliar sem NaN\n",
    "    df_aux = aux.dropna()\n",
    "\n",
    "    #df com todas as colunas sem Overall\n",
    "    y_train = df_aux['Overall']\n",
    "\n",
    "    #df com a coluna Overall (usei essa coluna como dica do pessoal na comunidade do curso)\n",
    "    x_train = df_aux.drop(columns = 'Overall')\n",
    "\n",
    "    #transformando x_train e y_train para array\n",
    "    y = y_train.to_numpy()\n",
    "    x = x_train.to_numpy()\n",
    "\n",
    "    #agora sim implementando o RFE\n",
    "    svm = LinearRegression()\n",
    "    rfe = RFE(svm, 5)\n",
    "    rfe = rfe.fit(x, y)\n",
    "\n",
    "    #criando um df auxiliar para visualizar melhor o resultado\n",
    "    df_aux_result = pd.DataFrame({'coluna':x_train.columns,\n",
    "              'bool': rfe.support_,\n",
    "              'ranking': rfe.ranking_})\n",
    "\n",
    "    #filtrando o df axuliar de resultado  pelo ranking para pegar as 5 variaveis \n",
    "    variaveis = list(df_aux_result['coluna'][df_aux_result['ranking']==1])\n",
    "\n",
    "    return variaveis\n",
    "    pass"
   ]
  }
 ],
 "metadata": {
  "kernelspec": {
   "display_name": "Python 3",
   "language": "python",
   "name": "python3"
  },
  "language_info": {
   "codemirror_mode": {
    "name": "ipython",
    "version": 3
   },
   "file_extension": ".py",
   "mimetype": "text/x-python",
   "name": "python",
   "nbconvert_exporter": "python",
   "pygments_lexer": "ipython3",
   "version": "3.7.6"
  }
 },
 "nbformat": 4,
 "nbformat_minor": 2
}
